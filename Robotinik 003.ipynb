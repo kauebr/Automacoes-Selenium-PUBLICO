{
 "cells": [
  {
   "cell_type": "markdown",
   "metadata": {},
   "source": [
    "<center>\n",
    "    <img src=\"https://i.ibb.co/gD7bqpL/banner-robotinik.png\" width=\"900\" alt=\"KCode Banner\"  />\n",
    "</center>\n",
    "\n"
   ]
  },
  {
   "cell_type": "markdown",
   "metadata": {},
   "source": [
    "\n",
    "$$Robotinik$$\n"
   ]
  },
  {
   "cell_type": "markdown",
   "metadata": {},
   "source": [
    "Algorimos de automação em python para logar no sistema [Projudi](\"https://projudi.tjpr.jus.br/projudi/\") e filtrar os processos aptos, com base na tese X e envia-los - ao escritório para que sejam propectados os clientes."
   ]
  },
  {
   "cell_type": "markdown",
   "metadata": {},
   "source": [
    "# Etapas\n",
    "Preparando tudo\n",
    "*  Instalar ecosssitema Kaue - Ok\n",
    "* Instalar ecossistema Renato - Ok\n",
    "* Montar projeto no GithUB - Ok\n",
    "\n",
    "Etapas da programação em sí:\n",
    "\n",
    "* Logar no projudi - OK\n",
    "* ir até a lista de processos - OK\n",
    "\n",
    "\n",
    "* Aplicar filtros com base na tese X - Em Andamento"
   ]
  },
  {
   "cell_type": "markdown",
   "metadata": {},
   "source": []
  },
  {
   "cell_type": "markdown",
   "metadata": {},
   "source": [
    "## Programação em sí"
   ]
  },
  {
   "cell_type": "markdown",
   "metadata": {},
   "source": [
    "Instalando bibliotecas pertinentes"
   ]
  },
  {
   "cell_type": "code",
   "execution_count": null,
   "metadata": {},
   "outputs": [],
   "source": [
    "from selenium import webdriver # Importando funcao webdriver\n",
    "from selenium.webdriver.common.by import By # importando metodo By\n",
    "from time import sleep # importando funcao do programa esperar tempo\n",
    "import os"
   ]
  },
  {
   "cell_type": "markdown",
   "metadata": {},
   "source": [
    "Logando no projudi"
   ]
  },
  {
   "cell_type": "code",
   "execution_count": null,
   "metadata": {},
   "outputs": [
    {
     "name": "stdout",
     "output_type": "stream",
     "text": [
      "Digite o código único: 277457\n"
     ]
    }
   ],
   "source": [
    "driver = webdriver.Chrome() # Atribuindo Drive ao Crhome\n",
    "driver.get(\"https://projudi.tjpr.jus.br/projudi/\") # Abrindo o site do projudi\n",
    "sleep(2) # congelando por dois segundo\n",
    "driver.switch_to.frame(1) # Muda o foco pro frame\n",
    "# frame representa um contexto de navegação aninhado, efetivamente incorporando outra página\n",
    "from selenium.webdriver.common.action_chains import ActionChains\n",
    "\n",
    "usuario = str(input('Digite o usuário: '))\n",
    "senha = str(input('Digite sua senha: '))\n",
    "driver.find_element(By.CSS_SELECTOR, \".externo > .tipoAcesso\").click() # Clicando no botao Advogado\n",
    "driver.find_element(By.ID, \"username\").send_keys(usuario) # digitando usuário\n",
    "driver.find_element(By.ID, \"password\").send_keys(senha) # digitando a senha\n",
    "driver.find_element(By.ID, \"kc-login\").click() # Clicando no botão de login\n",
    "codigo = input(\"Digite o código único: \") # abre um campo para digitar o codigo unico na tela do python\n",
    "driver.find_element(By.ID, \"totp\").send_keys(codigo) # manda o codigo para o campo certo\n",
    "driver.find_element(By.ID, \"kc-login\").click() # clica em login\n",
    "# até aqui ok, logou.\n"
   ]
  },
  {
   "cell_type": "markdown",
   "metadata": {},
   "source": [
    "Indo até o local das buscas"
   ]
  },
  {
   "cell_type": "code",
   "execution_count": null,
   "metadata": {},
   "outputs": [],
   "source": [
    "# Clicar em buscas\n",
    "driver.find_element(By.LINK_TEXT, \"Buscas\").click()\n",
    "# CLicar em processos de 1o grau\n",
    "driver.find_element(By.LINK_TEXT, \"Processos 1º Grau\").click()"
   ]
  },
  {
   "cell_type": "markdown",
   "metadata": {},
   "source": [
    ">Ate aqui chegou em buscar processos"
   ]
  },
  {
   "cell_type": "code",
   "execution_count": null,
   "metadata": {},
   "outputs": [],
   "source": [
    "driver.switch_to.frame(0) #mudando o foco\n"
   ]
  },
  {
   "cell_type": "code",
   "execution_count": null,
   "metadata": {},
   "outputs": [],
   "source": [
    "from selenium.webdriver.common.keys import Keys # importando a biblioteca"
   ]
  },
  {
   "cell_type": "code",
   "execution_count": null,
   "metadata": {},
   "outputs": [],
   "source": [
    "# ticando a opção 'qualquer processo'\n",
    "driver.find_element(By.XPATH, '//*[@id=\"buscaProcessosQualquerInstanciaForm\"]/fieldset/table/tbody/tr[2]/td[2]/input[2]').click()"
   ]
  },
  {
   "cell_type": "code",
   "execution_count": null,
   "metadata": {},
   "outputs": [],
   "source": [
    "# ticando a opção 'promovente'\n",
    "driver.find_element(By.XPATH, '//*[@id=\"buscaProcessosQualquerInstanciaForm\"]/fieldset/table/tbody/tr[9]/td[2]/input[1]').click()"
   ]
  },
  {
   "cell_type": "code",
   "execution_count": null,
   "metadata": {},
   "outputs": [],
   "source": [
    "# colocando o cnpj do bb\n",
    "driver.find_element(By.NAME, \"cpfCnpj\").send_keys(\"00.000.000/0001-91\")\n",
    "# Selecionando a Vara\n",
    "driver.find_element(By.ID, \"descricaoVara\").send_keys(\"4ª Vara Cível de Curitiba\")\n",
    "sleep(1)\n",
    "for c in range(0,4):\n",
    "    driver.find_element(By.ID, \"descricaoVara\").send_keys(Keys.ARROW_DOWN)\n",
    "    sleep(0.5)\n",
    "sleep(1)\n",
    "driver.find_element(By.ID, \"descricaoVara\").send_keys(Keys.ENTER)\n",
    "driver.find_element(By.ID, \"descricaoVara\").send_keys(Keys.ENTER)\n",
    "# ate aqui ok, chegou na lista de processos"
   ]
  },
  {
   "cell_type": "code",
   "execution_count": null,
   "metadata": {},
   "outputs": [],
   "source": [
    "# Daqui pra baixo esta em desenvolvimento;"
   ]
  },
  {
   "cell_type": "code",
   "execution_count": null,
   "metadata": {},
   "outputs": [],
   "source": [
    "# neste etapa filtrar inicio 2013 final 2017"
   ]
  },
  {
   "cell_type": "code",
   "execution_count": null,
   "metadata": {},
   "outputs": [],
   "source": [
    "# abri prcesso um por um APENAS SE FOR MONITORIA OU EXECUCAO "
   ]
  },
  {
   "cell_type": "code",
   "execution_count": null,
   "metadata": {},
   "outputs": [],
   "source": [
    "# aba partes e outros"
   ]
  },
  {
   "cell_type": "code",
   "execution_count": null,
   "metadata": {},
   "outputs": [],
   "source": [
    "# ali se tiver nao tiver advogado ou for defensor na parte reu continua, senao exclui] INCLUI MESMO SE TIVER SO UMA PARTE SEM"
   ]
  },
  {
   "cell_type": "code",
   "execution_count": null,
   "metadata": {},
   "outputs": [],
   "source": [
    "# clicar no bota acesso a integra se nao fizer nao consegue exportar"
   ]
  },
  {
   "cell_type": "code",
   "execution_count": null,
   "metadata": {},
   "outputs": [],
   "source": [
    "# exportar o processo"
   ]
  },
  {
   "cell_type": "code",
   "execution_count": null,
   "metadata": {},
   "outputs": [],
   "source": [
    "# se achar \"arquivado definitivamente pode excluir\""
   ]
  },
  {
   "cell_type": "code",
   "execution_count": null,
   "metadata": {},
   "outputs": [],
   "source": [
    "#   PROCURAR ALGUMA MANEIRA DE CONVERTER IMAGEM EM DADO\n",
    "PROCURARAO ULTIMO VENCIMENTO EH  DESAFIO, PALAVRAS CHAVES VENCIMENTO ULTIMA PARCELA\n",
    "TEM  UM DOCUMENTO QUE CHAMA PLAILHA DE CALCUL/ DEMONSTRATIVO DE DEBITO\n"
   ]
  }
 ],
 "metadata": {
  "interpreter": {
   "hash": "5d11380547bba1e6c4b0ab7b7614350493a6d4caf256d9be4e363829d8f5c452"
  },
  "kernelspec": {
   "display_name": "Python 3 (ipykernel)",
   "language": "python",
   "name": "python3"
  },
  "language_info": {
   "codemirror_mode": {
    "name": "ipython",
    "version": 3
   },
   "file_extension": ".py",
   "mimetype": "text/x-python",
   "name": "python",
   "nbconvert_exporter": "python",
   "pygments_lexer": "ipython3",
   "version": "3.10.4"
  }
 },
 "nbformat": 4,
 "nbformat_minor": 2
}
